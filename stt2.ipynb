{
  "nbformat": 4,
  "nbformat_minor": 0,
  "metadata": {
    "colab": {
      "provenance": [],
      "gpuType": "T4"
    },
    "kernelspec": {
      "name": "python3",
      "display_name": "Python 3"
    },
    "language_info": {
      "name": "python"
    },
    "accelerator": "GPU"
  },
  "cells": [
    {
      "cell_type": "code",
      "execution_count": 14,
      "metadata": {
        "id": "YDp0MEIwpAGC"
      },
      "outputs": [],
      "source": [
        "import os\n",
        "import pandas as pd\n",
        "import librosa\n",
        "import tensorflow as tf\n",
        "import numpy as np\n",
        "import string\n",
        "\n",
        "class TextTransform:\n",
        "    \"\"\"Mapira slova alfabeta u brojeve i obrunto\"\"\"\n",
        "    def __init__(self):\n",
        "        alphabet = string.ascii_lowercase + \" ,\"\n",
        "        self.char_map = {char: idx + 1 for idx, char in enumerate(alphabet)}\n",
        "        self.index_map = {idx: char for char, idx in self.char_map.items()}\n",
        "\n",
        "    def text_to_int(self, text):\n",
        "        return [self.char_map[char] for char in text if char in self.char_map]\n",
        "\n",
        "    def int_to_text(self, labels):\n",
        "        return ''.join([self.index_map[label] for label in labels if label in self.index_map])\n",
        "\n",
        "\n",
        "text_transform = TextTransform()\n",
        "\n"
      ]
    },
    {
      "cell_type": "code",
      "source": [
        "class MelSpectrogramDataset:\n",
        "    def __init__(self, tsv_files, audio_dir, text_transform):\n",
        "        self.metadata = self._load_and_filter_metadata(tsv_files, audio_dir)\n",
        "        self.audio_dir = audio_dir\n",
        "        self.text_transform = text_transform\n",
        "\n",
        "    def _load_and_filter_metadata(self, tsv_files, audio_dir):\n",
        "        \"\"\"Ucitava i filtrira samo fajlove koji postoje\"\"\"\n",
        "        all_metadata = []\n",
        "        for tsv_file in tsv_files:\n",
        "            df = pd.read_csv(tsv_file, delimiter='\\t')\n",
        "            df = df[df['path'].apply(lambda x: os.path.exists(os.path.join(audio_dir, x)))]\n",
        "            all_metadata.append(df)\n",
        "        return pd.concat(all_metadata, ignore_index=True)\n",
        "\n",
        "    def generator(self):\n",
        "        for _, row in self.metadata.iterrows():\n",
        "            audio_path = os.path.join(self.audio_dir, row['path'])\n",
        "            label_text = row['sentence'].lower()\n",
        "\n",
        "            label = tf.convert_to_tensor(self.text_transform.text_to_int(label_text), dtype=tf.int32)\n",
        "\n",
        "            y, sr = librosa.load(audio_path, sr=None)\n",
        "            S = librosa.feature.melspectrogram(y=y, sr=sr, n_mels=128, fmax=8000)\n",
        "            S_dB = librosa.power_to_db(S, ref=np.max)\n",
        "            S_dB = (S_dB - S_dB.min()) / (S_dB.max() - S_dB.min())\n",
        "            spectrogram = tf.convert_to_tensor(S_dB, dtype=tf.float32)\n",
        "            spectrogram = tf.expand_dims(spectrogram, axis=-1)\n",
        "\n",
        "            input_length = tf.shape(spectrogram)[1]\n",
        "            label_length = tf.size(label)\n",
        "\n",
        "            yield spectrogram, label, input_length, label_length\n"
      ],
      "metadata": {
        "id": "XI65D3Lxs1QS"
      },
      "execution_count": 5,
      "outputs": []
    },
    {
      "cell_type": "code",
      "source": [
        "tsv_valid = '/content/drive/MyDrive/corpus/validated.tsv'\n",
        "tsv_other = '/content/drive/MyDrive/corpus/other.tsv'\n",
        "tsv_invalid = '/content/drive/MyDrive/corpus/invalidated.tsv'\n",
        "audio_dir = '/content/drive/MyDrive/corpus/clips/'\n",
        "\n",
        "\n",
        "train_dataset = MelSpectrogramDataset([tsv_valid, tsv_other], audio_dir, text_transform)\n",
        "test_dataset = MelSpectrogramDataset([tsv_invalid], audio_dir, text_transform)"
      ],
      "metadata": {
        "id": "XGKxHZjfu2t0"
      },
      "execution_count": null,
      "outputs": []
    },
    {
      "cell_type": "code",
      "source": [
        "def serialize_example(spectrogram, label, input_length, label_length):\n",
        "    spec_serialized = tf.io.serialize_tensor(spectrogram).numpy()\n",
        "    label_serialized = tf.io.serialize_tensor(label).numpy()\n",
        "    feature = {\n",
        "        'spectrogram': tf.train.Feature(bytes_list=tf.train.BytesList(value=[spec_serialized])),\n",
        "        'label': tf.train.Feature(bytes_list=tf.train.BytesList(value=[label_serialized])),\n",
        "        'input_length': tf.train.Feature(int64_list=tf.train.Int64List(value=[input_length])),\n",
        "        'label_length': tf.train.Feature(int64_list=tf.train.Int64List(value=[label_length])),\n",
        "    }\n",
        "    example_proto = tf.train.Example(features=tf.train.Features(feature=feature))\n",
        "    return example_proto.SerializeToString()\n",
        "\n",
        "\n",
        "def write_tfrecord(dataset, tfrecord_path):\n",
        "    \"\"\"Upisuje Dataset u TFRecord fajl za brzo ucitavanje\"\"\"\n",
        "    with tf.io.TFRecordWriter(tfrecord_path) as writer:\n",
        "        for spectrogram, label, input_length, label_length in dataset.generator():\n",
        "            spec_np = spectrogram.numpy()\n",
        "            label_np = label.numpy()\n",
        "            input_length_np = int(input_length.numpy())\n",
        "            label_length_np = int(label_length.numpy())\n",
        "\n",
        "            example = serialize_example(spec_np, label_np, input_length_np, label_length_np)\n",
        "            writer.write(example)\n",
        "    print(f\"TFRecord written to {tfrecord_path}\")\n",
        "\n",
        "\n",
        "write_tfrecord(train_dataset, '/content/drive/MyDrive/corpus/train.tfrecord')\n",
        "\n",
        "write_tfrecord(test_dataset, '/content/drive/MyDrive/corpus/test.tfrecord')"
      ],
      "metadata": {
        "colab": {
          "base_uri": "https://localhost:8080/"
        },
        "id": "Qp2sPVriybmg",
        "outputId": "831b4188-9047-49b3-9d25-5737969e8b50"
      },
      "execution_count": null,
      "outputs": [
        {
          "output_type": "stream",
          "name": "stderr",
          "text": [
            "<ipython-input-6-bcaff7503d13>:30: RuntimeWarning: invalid value encountered in divide\n",
            "  S_dB = (S_dB - S_dB.min()) / (S_dB.max() - S_dB.min())\n"
          ]
        },
        {
          "output_type": "stream",
          "name": "stdout",
          "text": [
            "TFRecord written to /content/drive/MyDrive/corpus/train.tfrecord\n",
            "TFRecord written to /content/drive/MyDrive/corpus/test.tfrecord\n"
          ]
        }
      ]
    },
    {
      "cell_type": "code",
      "source": [
        "def parse_example(serialized_example, max_width=800, max_label_length=200):\n",
        "    feature_description = {\n",
        "        'spectrogram': tf.io.FixedLenFeature([], tf.string),\n",
        "        'label': tf.io.FixedLenFeature([], tf.string),\n",
        "        'input_length': tf.io.FixedLenFeature([], tf.int64),\n",
        "        'label_length': tf.io.FixedLenFeature([], tf.int64)\n",
        "    }\n",
        "\n",
        "    example = tf.io.parse_single_example(serialized_example, feature_description)\n",
        "\n",
        "    spectrogram = tf.io.parse_tensor(example['spectrogram'], out_type=tf.float32)\n",
        "    label = tf.io.parse_tensor(example['label'], out_type=tf.int32)\n",
        "    input_length = example['input_length']\n",
        "    label_length = example['label_length']\n",
        "\n",
        "    spectrogram = tf.image.resize_with_pad(spectrogram, 128, max_width)\n",
        "    label = tf.pad(label, [[0, max_label_length - tf.shape(label)[0]]], constant_values=0)\n",
        "\n",
        "    return spectrogram, label, input_length, label_length"
      ],
      "metadata": {
        "id": "j6bSAADiu6C3"
      },
      "execution_count": 1,
      "outputs": []
    },
    {
      "cell_type": "code",
      "source": [
        "def load_tfrecord_dataset(tfrecord_path, batch_size=32, shuffle=True):\n",
        "    dataset = tf.data.TFRecordDataset(tfrecord_path)\n",
        "\n",
        "    dataset = dataset.map(parse_example, num_parallel_calls=tf.data.AUTOTUNE)\n",
        "\n",
        "    if shuffle:\n",
        "        dataset = dataset.shuffle(buffer_size=1000)\n",
        "    dataset = dataset.batch(batch_size).prefetch(buffer_size=tf.data.AUTOTUNE)\n",
        "\n",
        "    return dataset"
      ],
      "metadata": {
        "id": "vP7Q2o3h86oO"
      },
      "execution_count": 2,
      "outputs": []
    },
    {
      "cell_type": "code",
      "source": [
        "train_dataset = load_tfrecord_dataset('/content/drive/MyDrive/corpus/train.tfrecord')\n",
        "test_dataset = load_tfrecord_dataset('/content/drive/MyDrive/corpus/test.tfrecord', shuffle=False)"
      ],
      "metadata": {
        "id": "6KBUDsfX-E6E"
      },
      "execution_count": 6,
      "outputs": []
    },
    {
      "cell_type": "code",
      "source": [
        "for spectrogram, label, input_len, label_len in train_dataset.take(1):\n",
        "    print(f\"Spectrogram shape: {spectrogram.shape}\")\n",
        "    print(f\"Label shape: {label.shape}\")\n",
        "    print(f\"Input lengths: {input_len.numpy()}\")\n",
        "    print(f\"Label lengths: {label_len.numpy()}\")"
      ],
      "metadata": {
        "colab": {
          "base_uri": "https://localhost:8080/"
        },
        "id": "KXnOergd-HUM",
        "outputId": "4ea4fe56-2963-4688-8636-43e9a949b87c"
      },
      "execution_count": 7,
      "outputs": [
        {
          "output_type": "stream",
          "name": "stdout",
          "text": [
            "Spectrogram shape: (32, 128, 800, 1)\n",
            "Label shape: (32, 200)\n",
            "Input lengths: [311 289 403 718 266 210 352 446 284 194 210 298 599 345 394 244 318 412\n",
            " 453 322 385 338 453 401 462 489 599 451 419 563 417 633]\n",
            "Label lengths: [20 71 60 88 69 27 85 45 24 25 40 52 81 53 85 42 60 65 77 50 54 44 70 44\n",
            " 88 91 74 55 51 71 88 73]\n"
          ]
        }
      ]
    },
    {
      "cell_type": "code",
      "source": [],
      "metadata": {
        "id": "MfDV9PRQNwNP"
      },
      "execution_count": null,
      "outputs": []
    }
  ]
}