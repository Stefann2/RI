{
  "nbformat": 4,
  "nbformat_minor": 0,
  "metadata": {
    "colab": {
      "provenance": [],
      "gpuType": "T4"
    },
    "kernelspec": {
      "name": "python3",
      "display_name": "Python 3"
    },
    "language_info": {
      "name": "python"
    },
    "accelerator": "GPU"
  },
  "cells": [
    {
      "cell_type": "code",
      "execution_count": 14,
      "metadata": {
        "id": "YDp0MEIwpAGC"
      },
      "outputs": [],
      "source": [
        "import os\n",
        "import pandas as pd\n",
        "import librosa\n",
        "import tensorflow as tf\n",
        "import numpy as np\n",
        "import string\n",
        "\n",
        "class TextTransform:\n",
        "    \"\"\"Mapira slova alfabeta u brojeve i obrunto\"\"\"\n",
        "    def __init__(self):\n",
        "        alphabet = string.ascii_lowercase + \" ,\"\n",
        "        self.char_map = {char: idx + 1 for idx, char in enumerate(alphabet)}\n",
        "        self.index_map = {idx: char for char, idx in self.char_map.items()}\n",
        "\n",
        "    def text_to_int(self, text):\n",
        "        return [self.char_map[char] for char in text if char in self.char_map]\n",
        "\n",
        "    def int_to_text(self, labels):\n",
        "        return ''.join([self.index_map[label] for label in labels if label in self.index_map])\n",
        "\n",
        "\n",
        "text_transform = TextTransform()\n",
        "\n"
      ]
    },
    {
      "cell_type": "code",
      "source": [
        "class MelSpectrogramDataset:\n",
        "    def __init__(self, tsv_files, audio_dir, text_transform):\n",
        "        self.metadata = self._load_and_filter_metadata(tsv_files, audio_dir)\n",
        "        self.audio_dir = audio_dir\n",
        "        self.text_transform = text_transform\n",
        "\n",
        "    def _load_and_filter_metadata(self, tsv_files, audio_dir):\n",
        "        \"\"\"Ucitava i filtrira samo fajlove koji postoje\"\"\"\n",
        "        all_metadata = []\n",
        "        for tsv_file in tsv_files:\n",
        "            df = pd.read_csv(tsv_file, delimiter='\\t')\n",
        "            df = df[df['path'].apply(lambda x: os.path.exists(os.path.join(audio_dir, x)))]\n",
        "            all_metadata.append(df)\n",
        "        return pd.concat(all_metadata, ignore_index=True)\n",
        "\n",
        "    def generator(self):\n",
        "        for _, row in self.metadata.iterrows():\n",
        "            audio_path = os.path.join(self.audio_dir, row['path'])\n",
        "            label_text = row['sentence'].lower()\n",
        "\n",
        "            label = tf.convert_to_tensor(self.text_transform.text_to_int(label_text), dtype=tf.int32)\n",
        "\n",
        "            y, sr = librosa.load(audio_path, sr=None)\n",
        "            S = librosa.feature.melspectrogram(y=y, sr=sr, n_mels=128, fmax=8000)\n",
        "            S_dB = librosa.power_to_db(S, ref=np.max)\n",
        "            S_dB = (S_dB - S_dB.min()) / (S_dB.max() - S_dB.min())\n",
        "            spectrogram = tf.convert_to_tensor(S_dB, dtype=tf.float32)\n",
        "            spectrogram = tf.expand_dims(spectrogram, axis=-1)\n",
        "\n",
        "            input_length = tf.shape(spectrogram)[1]\n",
        "            label_length = tf.size(label)\n",
        "\n",
        "            yield spectrogram, label, input_length, label_length\n"
      ],
      "metadata": {
        "id": "XI65D3Lxs1QS"
      },
      "execution_count": 5,
      "outputs": []
    },
    {
      "cell_type": "code",
      "source": [
        "tsv_valid = '/content/drive/MyDrive/corpus/validated.tsv'\n",
        "tsv_other = '/content/drive/MyDrive/corpus/other.tsv'\n",
        "tsv_invalid = '/content/drive/MyDrive/corpus/invalidated.tsv'\n",
        "audio_dir = '/content/drive/MyDrive/corpus/clips/'\n",
        "\n",
        "\n",
        "train_dataset = MelSpectrogramDataset([tsv_valid, tsv_other], audio_dir, text_transform)\n",
        "test_dataset = MelSpectrogramDataset([tsv_invalid], audio_dir, text_transform)"
      ],
      "metadata": {
        "id": "XGKxHZjfu2t0"
      },
      "execution_count": null,
      "outputs": []
    },
    {
      "cell_type": "code",
      "source": [
        "def serialize_example(spectrogram, label, input_length, label_length):\n",
        "    spec_serialized = tf.io.serialize_tensor(spectrogram).numpy()\n",
        "    label_serialized = tf.io.serialize_tensor(label).numpy()\n",
        "    feature = {\n",
        "        'spectrogram': tf.train.Feature(bytes_list=tf.train.BytesList(value=[spec_serialized])),\n",
        "        'label': tf.train.Feature(bytes_list=tf.train.BytesList(value=[label_serialized])),\n",
        "        'input_length': tf.train.Feature(int64_list=tf.train.Int64List(value=[input_length])),\n",
        "        'label_length': tf.train.Feature(int64_list=tf.train.Int64List(value=[label_length])),\n",
        "    }\n",
        "    example_proto = tf.train.Example(features=tf.train.Features(feature=feature))\n",
        "    return example_proto.SerializeToString()\n",
        "\n",
        "\n",
        "def write_tfrecord(dataset, tfrecord_path):\n",
        "    \"\"\"Upisuje Dataset u TFRecord fajl za brzo ucitavanje\"\"\"\n",
        "    with tf.io.TFRecordWriter(tfrecord_path) as writer:\n",
        "        for spectrogram, label, input_length, label_length in dataset.generator():\n",
        "            spec_np = spectrogram.numpy()\n",
        "            label_np = label.numpy()\n",
        "            input_length_np = int(input_length.numpy())\n",
        "            label_length_np = int(label_length.numpy())\n",
        "\n",
        "            example = serialize_example(spec_np, label_np, input_length_np, label_length_np)\n",
        "            writer.write(example)\n",
        "    print(f\"TFRecord written to {tfrecord_path}\")\n",
        "\n",
        "\n",
        "write_tfrecord(train_dataset, '/content/drive/MyDrive/corpus/train.tfrecord')\n",
        "\n",
        "write_tfrecord(test_dataset, '/content/drive/MyDrive/corpus/test.tfrecord')"
      ],
      "metadata": {
        "colab": {
          "base_uri": "https://localhost:8080/"
        },
        "id": "Qp2sPVriybmg",
        "outputId": "831b4188-9047-49b3-9d25-5737969e8b50"
      },
      "execution_count": null,
      "outputs": [
        {
          "output_type": "stream",
          "name": "stderr",
          "text": [
            "<ipython-input-6-bcaff7503d13>:30: RuntimeWarning: invalid value encountered in divide\n",
            "  S_dB = (S_dB - S_dB.min()) / (S_dB.max() - S_dB.min())\n"
          ]
        },
        {
          "output_type": "stream",
          "name": "stdout",
          "text": [
            "TFRecord written to /content/drive/MyDrive/corpus/train.tfrecord\n",
            "TFRecord written to /content/drive/MyDrive/corpus/test.tfrecord\n"
          ]
        }
      ]
    },
    {
      "cell_type": "code",
      "source": [
        "def parse_example(serialized_example, max_width=800, max_label_length=200):\n",
        "    feature_description = {\n",
        "        'spectrogram': tf.io.FixedLenFeature([], tf.string),\n",
        "        'label': tf.io.FixedLenFeature([], tf.string),\n",
        "        'input_length': tf.io.FixedLenFeature([], tf.int64),\n",
        "        'label_length': tf.io.FixedLenFeature([], tf.int64)\n",
        "    }\n",
        "\n",
        "    example = tf.io.parse_single_example(serialized_example, feature_description)\n",
        "\n",
        "    spectrogram = tf.io.parse_tensor(example['spectrogram'], out_type=tf.float32)\n",
        "    label = tf.io.parse_tensor(example['label'], out_type=tf.int32)\n",
        "    input_length = example['input_length']\n",
        "    label_length = example['label_length']\n",
        "\n",
        "    spectrogram = tf.image.resize_with_pad(spectrogram, 128, max_width)\n",
        "    label = tf.pad(label, [[0, max_label_length - tf.shape(label)[0]]], constant_values=0)\n",
        "\n",
        "    return spectrogram, label, input_length, label_length"
      ],
      "metadata": {
        "id": "j6bSAADiu6C3"
      },
      "execution_count": 1,
      "outputs": []
    },
    {
      "cell_type": "code",
      "source": [
        "def load_tfrecord_dataset(tfrecord_path, batch_size=32, shuffle=True):\n",
        "    dataset = tf.data.TFRecordDataset(tfrecord_path)\n",
        "\n",
        "    dataset = dataset.map(parse_example, num_parallel_calls=tf.data.AUTOTUNE)\n",
        "\n",
        "    if shuffle:\n",
        "        dataset = dataset.shuffle(buffer_size=1000)\n",
        "    dataset = dataset.batch(batch_size).prefetch(buffer_size=tf.data.AUTOTUNE)\n",
        "\n",
        "    return dataset"
      ],
      "metadata": {
        "id": "vP7Q2o3h86oO"
      },
      "execution_count": 2,
      "outputs": []
    },
    {
      "cell_type": "code",
      "source": [
        "train_dataset = load_tfrecord_dataset('/content/drive/MyDrive/corpus/train.tfrecord')\n",
        "test_dataset = load_tfrecord_dataset('/content/drive/MyDrive/corpus/test.tfrecord', shuffle=False)"
      ],
      "metadata": {
        "id": "6KBUDsfX-E6E"
      },
      "execution_count": 6,
      "outputs": []
    },
    {
      "cell_type": "code",
      "source": [
        "for spectrogram, label, input_len, label_len in train_dataset.take(1):\n",
        "    print(f\"Spectrogram shape: {spectrogram.shape}\")\n",
        "    print(f\"Label shape: {label.shape}\")\n",
        "    print(f\"Input lengths: {input_len.numpy()}\")\n",
        "    print(f\"Label lengths: {label_len.numpy()}\")"
      ],
      "metadata": {
        "colab": {
          "base_uri": "https://localhost:8080/"
        },
        "id": "KXnOergd-HUM",
        "outputId": "4ea4fe56-2963-4688-8636-43e9a949b87c"
      },
      "execution_count": 7,
      "outputs": [
        {
          "output_type": "stream",
          "name": "stdout",
          "text": [
            "Spectrogram shape: (32, 128, 800, 1)\n",
            "Label shape: (32, 200)\n",
            "Input lengths: [311 289 403 718 266 210 352 446 284 194 210 298 599 345 394 244 318 412\n",
            " 453 322 385 338 453 401 462 489 599 451 419 563 417 633]\n",
            "Label lengths: [20 71 60 88 69 27 85 45 24 25 40 52 81 53 85 42 60 65 77 50 54 44 70 44\n",
            " 88 91 74 55 51 71 88 73]\n"
          ]
        }
      ]
    },
    {
      "cell_type": "code",
      "source": [
        "from tensorflow.keras import layers, Model"
      ],
      "metadata": {
        "id": "MfDV9PRQNwNP"
      },
      "execution_count": 15,
      "outputs": []
    },
    {
      "cell_type": "code",
      "source": [
        "def build_model(input_shape, vocab_size):\n",
        "  inputs = layers.Input(shape=input_shape, name='input')\n",
        "\n",
        "  x = layers.Conv2D(32, (3, 3), activation='relu', padding='same')(inputs)\n",
        "  x = layers.BatchNormalization()(x)\n",
        "  x = layers.MaxPooling2D((2,2))(x)\n",
        "\n",
        "  x = layers.Conv2D(64, (3, 3), activation=\"relu\", padding=\"same\")(x)\n",
        "  x = layers.BatchNormalization()(x)\n",
        "  x = layers.MaxPooling2D((2, 2))(x)\n",
        "\n",
        "  x = layers.Permute((2, 1, 3))(x)\n",
        "  x = layers.Reshape((x.shape[1], -1))(x)\n",
        "\n",
        "  x = layers.Bidirectional(layers.GRU(128, return_sequences=True))(x)\n",
        "  x = layers.Bidirectional(layers.GRU(128, return_sequences=True))(x)\n",
        "\n",
        "  x = layers.Dense(vocab_size + 1, activation=\"softmax\", name=\"output\")(x)\n",
        "\n",
        "  model = Model(inputs, x, name=\"STTModel\")\n",
        "  return model"
      ],
      "metadata": {
        "id": "zKYszrz4ZpP5"
      },
      "execution_count": 20,
      "outputs": []
    },
    {
      "cell_type": "code",
      "source": [
        "input_shape = (128, 800, 1)\n",
        "vocab_size = len(string.ascii_lowercase) + 2\n",
        "\n",
        "model = build_model(input_shape, vocab_size)\n",
        "model.summary()"
      ],
      "metadata": {
        "colab": {
          "base_uri": "https://localhost:8080/",
          "height": 578
        },
        "id": "HZmLeDrTdf2A",
        "outputId": "77b26f4c-23b0-45f0-a541-da1ae6b8fcee"
      },
      "execution_count": 21,
      "outputs": [
        {
          "output_type": "display_data",
          "data": {
            "text/plain": [
              "\u001b[1mModel: \"STTModel\"\u001b[0m\n"
            ],
            "text/html": [
              "<pre style=\"white-space:pre;overflow-x:auto;line-height:normal;font-family:Menlo,'DejaVu Sans Mono',consolas,'Courier New',monospace\"><span style=\"font-weight: bold\">Model: \"STTModel\"</span>\n",
              "</pre>\n"
            ]
          },
          "metadata": {}
        },
        {
          "output_type": "display_data",
          "data": {
            "text/plain": [
              "┏━━━━━━━━━━━━━━━━━━━━━━━━━━━━━━━━━━━━━━┳━━━━━━━━━━━━━━━━━━━━━━━━━━━━━┳━━━━━━━━━━━━━━━━━┓\n",
              "┃\u001b[1m \u001b[0m\u001b[1mLayer (type)                        \u001b[0m\u001b[1m \u001b[0m┃\u001b[1m \u001b[0m\u001b[1mOutput Shape               \u001b[0m\u001b[1m \u001b[0m┃\u001b[1m \u001b[0m\u001b[1m        Param #\u001b[0m\u001b[1m \u001b[0m┃\n",
              "┡━━━━━━━━━━━━━━━━━━━━━━━━━━━━━━━━━━━━━━╇━━━━━━━━━━━━━━━━━━━━━━━━━━━━━╇━━━━━━━━━━━━━━━━━┩\n",
              "│ input (\u001b[38;5;33mInputLayer\u001b[0m)                   │ (\u001b[38;5;45mNone\u001b[0m, \u001b[38;5;34m128\u001b[0m, \u001b[38;5;34m800\u001b[0m, \u001b[38;5;34m1\u001b[0m)         │               \u001b[38;5;34m0\u001b[0m │\n",
              "├──────────────────────────────────────┼─────────────────────────────┼─────────────────┤\n",
              "│ conv2d_4 (\u001b[38;5;33mConv2D\u001b[0m)                    │ (\u001b[38;5;45mNone\u001b[0m, \u001b[38;5;34m128\u001b[0m, \u001b[38;5;34m800\u001b[0m, \u001b[38;5;34m32\u001b[0m)        │             \u001b[38;5;34m320\u001b[0m │\n",
              "├──────────────────────────────────────┼─────────────────────────────┼─────────────────┤\n",
              "│ batch_normalization_4                │ (\u001b[38;5;45mNone\u001b[0m, \u001b[38;5;34m128\u001b[0m, \u001b[38;5;34m800\u001b[0m, \u001b[38;5;34m32\u001b[0m)        │             \u001b[38;5;34m128\u001b[0m │\n",
              "│ (\u001b[38;5;33mBatchNormalization\u001b[0m)                 │                             │                 │\n",
              "├──────────────────────────────────────┼─────────────────────────────┼─────────────────┤\n",
              "│ max_pooling2d_4 (\u001b[38;5;33mMaxPooling2D\u001b[0m)       │ (\u001b[38;5;45mNone\u001b[0m, \u001b[38;5;34m64\u001b[0m, \u001b[38;5;34m400\u001b[0m, \u001b[38;5;34m32\u001b[0m)         │               \u001b[38;5;34m0\u001b[0m │\n",
              "├──────────────────────────────────────┼─────────────────────────────┼─────────────────┤\n",
              "│ conv2d_5 (\u001b[38;5;33mConv2D\u001b[0m)                    │ (\u001b[38;5;45mNone\u001b[0m, \u001b[38;5;34m64\u001b[0m, \u001b[38;5;34m400\u001b[0m, \u001b[38;5;34m64\u001b[0m)         │          \u001b[38;5;34m18,496\u001b[0m │\n",
              "├──────────────────────────────────────┼─────────────────────────────┼─────────────────┤\n",
              "│ batch_normalization_5                │ (\u001b[38;5;45mNone\u001b[0m, \u001b[38;5;34m64\u001b[0m, \u001b[38;5;34m400\u001b[0m, \u001b[38;5;34m64\u001b[0m)         │             \u001b[38;5;34m256\u001b[0m │\n",
              "│ (\u001b[38;5;33mBatchNormalization\u001b[0m)                 │                             │                 │\n",
              "├──────────────────────────────────────┼─────────────────────────────┼─────────────────┤\n",
              "│ max_pooling2d_5 (\u001b[38;5;33mMaxPooling2D\u001b[0m)       │ (\u001b[38;5;45mNone\u001b[0m, \u001b[38;5;34m32\u001b[0m, \u001b[38;5;34m200\u001b[0m, \u001b[38;5;34m64\u001b[0m)         │               \u001b[38;5;34m0\u001b[0m │\n",
              "├──────────────────────────────────────┼─────────────────────────────┼─────────────────┤\n",
              "│ permute_1 (\u001b[38;5;33mPermute\u001b[0m)                  │ (\u001b[38;5;45mNone\u001b[0m, \u001b[38;5;34m200\u001b[0m, \u001b[38;5;34m32\u001b[0m, \u001b[38;5;34m64\u001b[0m)         │               \u001b[38;5;34m0\u001b[0m │\n",
              "├──────────────────────────────────────┼─────────────────────────────┼─────────────────┤\n",
              "│ reshape_2 (\u001b[38;5;33mReshape\u001b[0m)                  │ (\u001b[38;5;45mNone\u001b[0m, \u001b[38;5;34m200\u001b[0m, \u001b[38;5;34m2048\u001b[0m)           │               \u001b[38;5;34m0\u001b[0m │\n",
              "├──────────────────────────────────────┼─────────────────────────────┼─────────────────┤\n",
              "│ bidirectional_4 (\u001b[38;5;33mBidirectional\u001b[0m)      │ (\u001b[38;5;45mNone\u001b[0m, \u001b[38;5;34m200\u001b[0m, \u001b[38;5;34m256\u001b[0m)            │       \u001b[38;5;34m1,672,704\u001b[0m │\n",
              "├──────────────────────────────────────┼─────────────────────────────┼─────────────────┤\n",
              "│ bidirectional_5 (\u001b[38;5;33mBidirectional\u001b[0m)      │ (\u001b[38;5;45mNone\u001b[0m, \u001b[38;5;34m200\u001b[0m, \u001b[38;5;34m256\u001b[0m)            │         \u001b[38;5;34m296,448\u001b[0m │\n",
              "├──────────────────────────────────────┼─────────────────────────────┼─────────────────┤\n",
              "│ output (\u001b[38;5;33mDense\u001b[0m)                       │ (\u001b[38;5;45mNone\u001b[0m, \u001b[38;5;34m200\u001b[0m, \u001b[38;5;34m29\u001b[0m)             │           \u001b[38;5;34m7,453\u001b[0m │\n",
              "└──────────────────────────────────────┴─────────────────────────────┴─────────────────┘\n"
            ],
            "text/html": [
              "<pre style=\"white-space:pre;overflow-x:auto;line-height:normal;font-family:Menlo,'DejaVu Sans Mono',consolas,'Courier New',monospace\">┏━━━━━━━━━━━━━━━━━━━━━━━━━━━━━━━━━━━━━━┳━━━━━━━━━━━━━━━━━━━━━━━━━━━━━┳━━━━━━━━━━━━━━━━━┓\n",
              "┃<span style=\"font-weight: bold\"> Layer (type)                         </span>┃<span style=\"font-weight: bold\"> Output Shape                </span>┃<span style=\"font-weight: bold\">         Param # </span>┃\n",
              "┡━━━━━━━━━━━━━━━━━━━━━━━━━━━━━━━━━━━━━━╇━━━━━━━━━━━━━━━━━━━━━━━━━━━━━╇━━━━━━━━━━━━━━━━━┩\n",
              "│ input (<span style=\"color: #0087ff; text-decoration-color: #0087ff\">InputLayer</span>)                   │ (<span style=\"color: #00d7ff; text-decoration-color: #00d7ff\">None</span>, <span style=\"color: #00af00; text-decoration-color: #00af00\">128</span>, <span style=\"color: #00af00; text-decoration-color: #00af00\">800</span>, <span style=\"color: #00af00; text-decoration-color: #00af00\">1</span>)         │               <span style=\"color: #00af00; text-decoration-color: #00af00\">0</span> │\n",
              "├──────────────────────────────────────┼─────────────────────────────┼─────────────────┤\n",
              "│ conv2d_4 (<span style=\"color: #0087ff; text-decoration-color: #0087ff\">Conv2D</span>)                    │ (<span style=\"color: #00d7ff; text-decoration-color: #00d7ff\">None</span>, <span style=\"color: #00af00; text-decoration-color: #00af00\">128</span>, <span style=\"color: #00af00; text-decoration-color: #00af00\">800</span>, <span style=\"color: #00af00; text-decoration-color: #00af00\">32</span>)        │             <span style=\"color: #00af00; text-decoration-color: #00af00\">320</span> │\n",
              "├──────────────────────────────────────┼─────────────────────────────┼─────────────────┤\n",
              "│ batch_normalization_4                │ (<span style=\"color: #00d7ff; text-decoration-color: #00d7ff\">None</span>, <span style=\"color: #00af00; text-decoration-color: #00af00\">128</span>, <span style=\"color: #00af00; text-decoration-color: #00af00\">800</span>, <span style=\"color: #00af00; text-decoration-color: #00af00\">32</span>)        │             <span style=\"color: #00af00; text-decoration-color: #00af00\">128</span> │\n",
              "│ (<span style=\"color: #0087ff; text-decoration-color: #0087ff\">BatchNormalization</span>)                 │                             │                 │\n",
              "├──────────────────────────────────────┼─────────────────────────────┼─────────────────┤\n",
              "│ max_pooling2d_4 (<span style=\"color: #0087ff; text-decoration-color: #0087ff\">MaxPooling2D</span>)       │ (<span style=\"color: #00d7ff; text-decoration-color: #00d7ff\">None</span>, <span style=\"color: #00af00; text-decoration-color: #00af00\">64</span>, <span style=\"color: #00af00; text-decoration-color: #00af00\">400</span>, <span style=\"color: #00af00; text-decoration-color: #00af00\">32</span>)         │               <span style=\"color: #00af00; text-decoration-color: #00af00\">0</span> │\n",
              "├──────────────────────────────────────┼─────────────────────────────┼─────────────────┤\n",
              "│ conv2d_5 (<span style=\"color: #0087ff; text-decoration-color: #0087ff\">Conv2D</span>)                    │ (<span style=\"color: #00d7ff; text-decoration-color: #00d7ff\">None</span>, <span style=\"color: #00af00; text-decoration-color: #00af00\">64</span>, <span style=\"color: #00af00; text-decoration-color: #00af00\">400</span>, <span style=\"color: #00af00; text-decoration-color: #00af00\">64</span>)         │          <span style=\"color: #00af00; text-decoration-color: #00af00\">18,496</span> │\n",
              "├──────────────────────────────────────┼─────────────────────────────┼─────────────────┤\n",
              "│ batch_normalization_5                │ (<span style=\"color: #00d7ff; text-decoration-color: #00d7ff\">None</span>, <span style=\"color: #00af00; text-decoration-color: #00af00\">64</span>, <span style=\"color: #00af00; text-decoration-color: #00af00\">400</span>, <span style=\"color: #00af00; text-decoration-color: #00af00\">64</span>)         │             <span style=\"color: #00af00; text-decoration-color: #00af00\">256</span> │\n",
              "│ (<span style=\"color: #0087ff; text-decoration-color: #0087ff\">BatchNormalization</span>)                 │                             │                 │\n",
              "├──────────────────────────────────────┼─────────────────────────────┼─────────────────┤\n",
              "│ max_pooling2d_5 (<span style=\"color: #0087ff; text-decoration-color: #0087ff\">MaxPooling2D</span>)       │ (<span style=\"color: #00d7ff; text-decoration-color: #00d7ff\">None</span>, <span style=\"color: #00af00; text-decoration-color: #00af00\">32</span>, <span style=\"color: #00af00; text-decoration-color: #00af00\">200</span>, <span style=\"color: #00af00; text-decoration-color: #00af00\">64</span>)         │               <span style=\"color: #00af00; text-decoration-color: #00af00\">0</span> │\n",
              "├──────────────────────────────────────┼─────────────────────────────┼─────────────────┤\n",
              "│ permute_1 (<span style=\"color: #0087ff; text-decoration-color: #0087ff\">Permute</span>)                  │ (<span style=\"color: #00d7ff; text-decoration-color: #00d7ff\">None</span>, <span style=\"color: #00af00; text-decoration-color: #00af00\">200</span>, <span style=\"color: #00af00; text-decoration-color: #00af00\">32</span>, <span style=\"color: #00af00; text-decoration-color: #00af00\">64</span>)         │               <span style=\"color: #00af00; text-decoration-color: #00af00\">0</span> │\n",
              "├──────────────────────────────────────┼─────────────────────────────┼─────────────────┤\n",
              "│ reshape_2 (<span style=\"color: #0087ff; text-decoration-color: #0087ff\">Reshape</span>)                  │ (<span style=\"color: #00d7ff; text-decoration-color: #00d7ff\">None</span>, <span style=\"color: #00af00; text-decoration-color: #00af00\">200</span>, <span style=\"color: #00af00; text-decoration-color: #00af00\">2048</span>)           │               <span style=\"color: #00af00; text-decoration-color: #00af00\">0</span> │\n",
              "├──────────────────────────────────────┼─────────────────────────────┼─────────────────┤\n",
              "│ bidirectional_4 (<span style=\"color: #0087ff; text-decoration-color: #0087ff\">Bidirectional</span>)      │ (<span style=\"color: #00d7ff; text-decoration-color: #00d7ff\">None</span>, <span style=\"color: #00af00; text-decoration-color: #00af00\">200</span>, <span style=\"color: #00af00; text-decoration-color: #00af00\">256</span>)            │       <span style=\"color: #00af00; text-decoration-color: #00af00\">1,672,704</span> │\n",
              "├──────────────────────────────────────┼─────────────────────────────┼─────────────────┤\n",
              "│ bidirectional_5 (<span style=\"color: #0087ff; text-decoration-color: #0087ff\">Bidirectional</span>)      │ (<span style=\"color: #00d7ff; text-decoration-color: #00d7ff\">None</span>, <span style=\"color: #00af00; text-decoration-color: #00af00\">200</span>, <span style=\"color: #00af00; text-decoration-color: #00af00\">256</span>)            │         <span style=\"color: #00af00; text-decoration-color: #00af00\">296,448</span> │\n",
              "├──────────────────────────────────────┼─────────────────────────────┼─────────────────┤\n",
              "│ output (<span style=\"color: #0087ff; text-decoration-color: #0087ff\">Dense</span>)                       │ (<span style=\"color: #00d7ff; text-decoration-color: #00d7ff\">None</span>, <span style=\"color: #00af00; text-decoration-color: #00af00\">200</span>, <span style=\"color: #00af00; text-decoration-color: #00af00\">29</span>)             │           <span style=\"color: #00af00; text-decoration-color: #00af00\">7,453</span> │\n",
              "└──────────────────────────────────────┴─────────────────────────────┴─────────────────┘\n",
              "</pre>\n"
            ]
          },
          "metadata": {}
        },
        {
          "output_type": "display_data",
          "data": {
            "text/plain": [
              "\u001b[1m Total params: \u001b[0m\u001b[38;5;34m1,995,805\u001b[0m (7.61 MB)\n"
            ],
            "text/html": [
              "<pre style=\"white-space:pre;overflow-x:auto;line-height:normal;font-family:Menlo,'DejaVu Sans Mono',consolas,'Courier New',monospace\"><span style=\"font-weight: bold\"> Total params: </span><span style=\"color: #00af00; text-decoration-color: #00af00\">1,995,805</span> (7.61 MB)\n",
              "</pre>\n"
            ]
          },
          "metadata": {}
        },
        {
          "output_type": "display_data",
          "data": {
            "text/plain": [
              "\u001b[1m Trainable params: \u001b[0m\u001b[38;5;34m1,995,613\u001b[0m (7.61 MB)\n"
            ],
            "text/html": [
              "<pre style=\"white-space:pre;overflow-x:auto;line-height:normal;font-family:Menlo,'DejaVu Sans Mono',consolas,'Courier New',monospace\"><span style=\"font-weight: bold\"> Trainable params: </span><span style=\"color: #00af00; text-decoration-color: #00af00\">1,995,613</span> (7.61 MB)\n",
              "</pre>\n"
            ]
          },
          "metadata": {}
        },
        {
          "output_type": "display_data",
          "data": {
            "text/plain": [
              "\u001b[1m Non-trainable params: \u001b[0m\u001b[38;5;34m192\u001b[0m (768.00 B)\n"
            ],
            "text/html": [
              "<pre style=\"white-space:pre;overflow-x:auto;line-height:normal;font-family:Menlo,'DejaVu Sans Mono',consolas,'Courier New',monospace\"><span style=\"font-weight: bold\"> Non-trainable params: </span><span style=\"color: #00af00; text-decoration-color: #00af00\">192</span> (768.00 B)\n",
              "</pre>\n"
            ]
          },
          "metadata": {}
        }
      ]
    },
    {
      "cell_type": "code",
      "source": [],
      "metadata": {
        "id": "8u2hCAVPk0_o"
      },
      "execution_count": null,
      "outputs": []
    }
  ]
}